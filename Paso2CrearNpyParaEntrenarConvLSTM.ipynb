{
 "cells": [
  {
   "cell_type": "code",
   "execution_count": 1,
   "metadata": {},
   "outputs": [
    {
     "name": "stderr",
     "output_type": "stream",
     "text": [
      "2024-02-29 13:49:26.956103: I tensorflow/core/platform/cpu_feature_guard.cc:193] This TensorFlow binary is optimized with oneAPI Deep Neural Network Library (oneDNN) to use the following CPU instructions in performance-critical operations:  AVX2 FMA\n",
      "To enable them in other operations, rebuild TensorFlow with the appropriate compiler flags.\n",
      "2024-02-29 13:49:27.618240: W tensorflow/compiler/xla/stream_executor/platform/default/dso_loader.cc:64] Could not load dynamic library 'libnvinfer.so.7'; dlerror: libnvinfer.so.7: cannot open shared object file: No such file or directory\n",
      "2024-02-29 13:49:27.618294: W tensorflow/compiler/xla/stream_executor/platform/default/dso_loader.cc:64] Could not load dynamic library 'libnvinfer_plugin.so.7'; dlerror: libnvinfer_plugin.so.7: cannot open shared object file: No such file or directory\n",
      "2024-02-29 13:49:27.618300: W tensorflow/compiler/tf2tensorrt/utils/py_utils.cc:38] TF-TRT Warning: Cannot dlopen some TensorRT libraries. If you would like to use Nvidia GPU with TensorRT, please make sure the missing libraries mentioned above are installed properly.\n"
     ]
    }
   ],
   "source": [
    "import numpy as np\n",
    "from sklearn.model_selection import train_test_split\n",
    "import matplotlib.pyplot as plt\n",
    "from tensorflow import keras\n",
    "from tensorflow.keras.optimizers import Adam\n",
    "from tensorflow.keras import layers\n",
    "from sklearn.metrics import mean_squared_error\n",
    "import tensorflow as tf\n",
    "from keras.callbacks import EarlyStopping\n"
   ]
  },
  {
   "cell_type": "code",
   "execution_count": 4,
   "metadata": {},
   "outputs": [
    {
     "name": "stdout",
     "output_type": "stream",
     "text": [
      "WARNING:tensorflow:No training configuration found in the save file, so the model was *not* compiled. Compile it manually.\n"
     ]
    },
    {
     "name": "stdout",
     "output_type": "stream",
     "text": [
      "WARNING:tensorflow:No training configuration found in the save file, so the model was *not* compiled. Compile it manually.\n",
      "x shape (1254, 120, 360)\n"
     ]
    }
   ],
   "source": [
    "\n",
    "#Load the encoder model\n",
    "encoder_model = keras.models.load_model(\"Resultados/ModelosAutoencoder/V1/encoder.h5\")\n",
    "\n",
    "#Load the decoder model\n",
    "decoder_model = keras.models.load_model(\"Resultados/ModelosAutoencoder/V1/decoder.h5\")\n",
    "\n",
    "#Load the dataset\n",
    "x = np.load(\"/media/mccdual2080/Almacenamiengto/SahirProjects/SahirReyes/dataSetAutoencoder/DatasetAutoencoder/DataSetLatentSpace/Npy/Dataset120x360Greys.npy\")\n",
    "print(\"x shape\",x.shape)\n"
   ]
  },
  {
   "cell_type": "code",
   "execution_count": 6,
   "metadata": {},
   "outputs": [
    {
     "name": "stdout",
     "output_type": "stream",
     "text": [
      "40/40 [==============================] - 0s 3ms/step\n",
      "x_encoded shape (1254, 60, 180, 1)\n",
      "x max 1.0\n",
      "x min 0.0\n",
      "x_encoded max 0.9002678\n",
      "x_encoded min 0.19354352\n",
      "x dtype float32\n",
      "x_encoded dtype float32\n"
     ]
    }
   ],
   "source": [
    "#Encode the dataset\n",
    "x_encoded = encoder_model.predict(x)\n",
    "print(\"x_encoded shape\",x_encoded.shape)\n",
    "\n",
    "print(\"x max\",np.max(x))\n",
    "print(\"x min\",np.min(x))\n",
    "print(\"x_encoded max\",np.max(x_encoded))\n",
    "print(\"x_encoded min\",np.min(x_encoded))\n",
    "print(\"x dtype\",x.dtype)\n",
    "print(\"x_encoded dtype\",x_encoded.dtype)\n",
    "#Save the encoded dataset\n",
    "np.save(\"Resultados/NpyEspacioLatente/V1/Dataset120x360Encoded.npy\",x_encoded)\n"
   ]
  }
 ],
 "metadata": {
  "kernelspec": {
   "display_name": "cropImage",
   "language": "python",
   "name": "python3"
  },
  "language_info": {
   "codemirror_mode": {
    "name": "ipython",
    "version": 3
   },
   "file_extension": ".py",
   "mimetype": "text/x-python",
   "name": "python",
   "nbconvert_exporter": "python",
   "pygments_lexer": "ipython3",
   "version": "3.8.0"
  }
 },
 "nbformat": 4,
 "nbformat_minor": 2
}
